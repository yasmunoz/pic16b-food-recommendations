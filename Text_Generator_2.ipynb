{
 "cells": [
  {
   "cell_type": "code",
   "execution_count": 1,
   "id": "7e855956",
   "metadata": {
    "id": "7e855956"
   },
   "outputs": [],
   "source": [
    "import tensorflow as tf\n",
    "import matplotlib.pyplot as plt\n",
    "import numpy as np\n",
    "import json\n",
    "import pandas as pd\n",
    "\n",
    "import tensorflow_hub as hub\n",
    "from tensorflow.keras.layers.experimental import preprocessing\n",
    "from tensorflow.keras import layers\n",
    "\n",
    "\n",
    "import platform\n",
    "import time\n",
    "import pathlib\n",
    "import os"
   ]
  },
  {
   "cell_type": "code",
   "execution_count": 10,
   "id": "7cf79e27",
   "metadata": {
    "id": "7cf79e27"
   },
   "outputs": [],
   "source": [
    "recipes=pd.read_csv('newresults.csv')"
   ]
  },
  {
   "cell_type": "code",
   "execution_count": 11,
   "id": "085c55f6",
   "metadata": {
    "colab": {
     "base_uri": "https://localhost:8080/",
     "height": 419
    },
    "id": "085c55f6",
    "outputId": "9d708dfa-4174-422d-ba65-5f8c50670745"
   },
   "outputs": [
    {
     "data": {
      "text/html": [
       "<div>\n",
       "<style scoped>\n",
       "    .dataframe tbody tr th:only-of-type {\n",
       "        vertical-align: middle;\n",
       "    }\n",
       "\n",
       "    .dataframe tbody tr th {\n",
       "        vertical-align: top;\n",
       "    }\n",
       "\n",
       "    .dataframe thead th {\n",
       "        text-align: right;\n",
       "    }\n",
       "</style>\n",
       "<table border=\"1\" class=\"dataframe\">\n",
       "  <thead>\n",
       "    <tr style=\"text-align: right;\">\n",
       "      <th></th>\n",
       "      <th>title</th>\n",
       "      <th>ingredients</th>\n",
       "      <th>recipe</th>\n",
       "      <th>category</th>\n",
       "    </tr>\n",
       "  </thead>\n",
       "  <tbody>\n",
       "    <tr>\n",
       "      <th>0</th>\n",
       "      <td>Traditional Osso Buco</td>\n",
       "      <td>2 pounds veal shanks, cut into short lengths ,...</td>\n",
       "      <td>Dust the veal shanks lightly with flour. Melt ...</td>\n",
       "      <td>Main Dishes</td>\n",
       "    </tr>\n",
       "    <tr>\n",
       "      <th>1</th>\n",
       "      <td>Italian Sausage Soup with Tortellini</td>\n",
       "      <td>1 pound sweet Italian sausage, casings removed...</td>\n",
       "      <td>In a 5-quart Dutch oven, brown sausage. Remove...</td>\n",
       "      <td>Vegetable Soup Recipes</td>\n",
       "    </tr>\n",
       "    <tr>\n",
       "      <th>2</th>\n",
       "      <td>Italian Sausage, Peppers, and Onions</td>\n",
       "      <td>6 (4 ounce) links sweet Italian sausage ,2 tab...</td>\n",
       "      <td>Place the sausage in a large skillet over medi...</td>\n",
       "      <td>Sausage</td>\n",
       "    </tr>\n",
       "    <tr>\n",
       "      <th>3</th>\n",
       "      <td>Tender Italian Baked Chicken</td>\n",
       "      <td>¾ cup mayonnaise ,½ cup grated Parmesan cheese...</td>\n",
       "      <td>Preheat oven to 425 degrees F (220 degrees C)....</td>\n",
       "      <td>Italian</td>\n",
       "    </tr>\n",
       "    <tr>\n",
       "      <th>4</th>\n",
       "      <td>Easy Pizza Sauce I</td>\n",
       "      <td>1 (6 ounce) can tomato paste ,1 ½ cups water ,...</td>\n",
       "      <td>Mix together the tomato paste, water, and oliv...</td>\n",
       "      <td>Pizza Sauce Recipes</td>\n",
       "    </tr>\n",
       "    <tr>\n",
       "      <th>...</th>\n",
       "      <td>...</td>\n",
       "      <td>...</td>\n",
       "      <td>...</td>\n",
       "      <td>...</td>\n",
       "    </tr>\n",
       "    <tr>\n",
       "      <th>10806</th>\n",
       "      <td>Vegetarian Pad Thai</td>\n",
       "      <td>1 (6.75 ounce) package thin rice noodles ,2 ta...</td>\n",
       "      <td>Place noodles in a heatproof bowl and cover wi...</td>\n",
       "      <td>Thai</td>\n",
       "    </tr>\n",
       "    <tr>\n",
       "      <th>10807</th>\n",
       "      <td>Quick and Easy Thai Style Coleslaw</td>\n",
       "      <td>1 (16 ounce) package shredded coleslaw mix ,¼ ...</td>\n",
       "      <td>Pour the coleslaw mix into a large bowl. Pour ...</td>\n",
       "      <td>No Mayo</td>\n",
       "    </tr>\n",
       "    <tr>\n",
       "      <th>10808</th>\n",
       "      <td>Sukhothai Pad Thai</td>\n",
       "      <td>½ cup white sugar ,½ cup distilled white vineg...</td>\n",
       "      <td>To prepare Pad Thai sauce: In a medium saucepa...</td>\n",
       "      <td>Thai</td>\n",
       "    </tr>\n",
       "    <tr>\n",
       "      <th>10809</th>\n",
       "      <td>Slow Cook Thai Chicken</td>\n",
       "      <td>6 skinless, boneless chicken breast halves - c...</td>\n",
       "      <td>Place the chicken breast strips, bell pepper a...</td>\n",
       "      <td>Thai</td>\n",
       "    </tr>\n",
       "    <tr>\n",
       "      <th>10810</th>\n",
       "      <td>Thai Barbeque Marinade</td>\n",
       "      <td>3 tablespoons fish sauce ,2 tablespoons rice w...</td>\n",
       "      <td>Whisk together the fish sauce, rice wine, sesa...</td>\n",
       "      <td>Marinade Recipes</td>\n",
       "    </tr>\n",
       "  </tbody>\n",
       "</table>\n",
       "<p>10547 rows × 4 columns</p>\n",
       "</div>"
      ],
      "text/plain": [
       "                                      title  \\\n",
       "0                     Traditional Osso Buco   \n",
       "1      Italian Sausage Soup with Tortellini   \n",
       "2      Italian Sausage, Peppers, and Onions   \n",
       "3              Tender Italian Baked Chicken   \n",
       "4                        Easy Pizza Sauce I   \n",
       "...                                     ...   \n",
       "10806                   Vegetarian Pad Thai   \n",
       "10807    Quick and Easy Thai Style Coleslaw   \n",
       "10808                    Sukhothai Pad Thai   \n",
       "10809                Slow Cook Thai Chicken   \n",
       "10810                Thai Barbeque Marinade   \n",
       "\n",
       "                                             ingredients  \\\n",
       "0      2 pounds veal shanks, cut into short lengths ,...   \n",
       "1      1 pound sweet Italian sausage, casings removed...   \n",
       "2      6 (4 ounce) links sweet Italian sausage ,2 tab...   \n",
       "3      ¾ cup mayonnaise ,½ cup grated Parmesan cheese...   \n",
       "4      1 (6 ounce) can tomato paste ,1 ½ cups water ,...   \n",
       "...                                                  ...   \n",
       "10806  1 (6.75 ounce) package thin rice noodles ,2 ta...   \n",
       "10807  1 (16 ounce) package shredded coleslaw mix ,¼ ...   \n",
       "10808  ½ cup white sugar ,½ cup distilled white vineg...   \n",
       "10809  6 skinless, boneless chicken breast halves - c...   \n",
       "10810  3 tablespoons fish sauce ,2 tablespoons rice w...   \n",
       "\n",
       "                                                  recipe  \\\n",
       "0      Dust the veal shanks lightly with flour. Melt ...   \n",
       "1      In a 5-quart Dutch oven, brown sausage. Remove...   \n",
       "2      Place the sausage in a large skillet over medi...   \n",
       "3      Preheat oven to 425 degrees F (220 degrees C)....   \n",
       "4      Mix together the tomato paste, water, and oliv...   \n",
       "...                                                  ...   \n",
       "10806  Place noodles in a heatproof bowl and cover wi...   \n",
       "10807  Pour the coleslaw mix into a large bowl. Pour ...   \n",
       "10808  To prepare Pad Thai sauce: In a medium saucepa...   \n",
       "10809  Place the chicken breast strips, bell pepper a...   \n",
       "10810  Whisk together the fish sauce, rice wine, sesa...   \n",
       "\n",
       "                     category  \n",
       "0                 Main Dishes  \n",
       "1      Vegetable Soup Recipes  \n",
       "2                     Sausage  \n",
       "3                     Italian  \n",
       "4         Pizza Sauce Recipes  \n",
       "...                       ...  \n",
       "10806                    Thai  \n",
       "10807                 No Mayo  \n",
       "10808                    Thai  \n",
       "10809                    Thai  \n",
       "10810        Marinade Recipes  \n",
       "\n",
       "[10547 rows x 4 columns]"
      ]
     },
     "execution_count": 11,
     "metadata": {},
     "output_type": "execute_result"
    }
   ],
   "source": [
    "recipes.dropna(inplace=True)\n",
    "recipes"
   ]
  },
  {
   "cell_type": "code",
   "execution_count": 12,
   "id": "cd672873",
   "metadata": {
    "colab": {
     "base_uri": "https://localhost:8080/"
    },
    "id": "cd672873",
    "outputId": "2209eca0-ef6b-4239-f51b-2b826d686e33"
   },
   "outputs": [
    {
     "data": {
      "text/plain": [
       "title                                               Tahini Salad\n",
       "ingredients    2 pickle-size Persian cucumbers, diced ,1 larg...\n",
       "recipe         Combine the cucumber, tomato, and radish in a ...\n",
       "category                                  Cucumber Salad Recipes\n",
       "Name: 77, dtype: object"
      ]
     },
     "execution_count": 12,
     "metadata": {},
     "output_type": "execute_result"
    }
   ],
   "source": [
    "recipes.iloc[76\n",
    "            ]"
   ]
  },
  {
   "cell_type": "code",
   "execution_count": 13,
   "id": "dd7a5d79",
   "metadata": {
    "id": "dd7a5d79"
   },
   "outputs": [],
   "source": [
    "title_marker='Æ Title: \\n'\n",
    "ingredients_marker='Ingredients: \\n'\n",
    "instructions_marker='Instructions: \\n'\n",
    "\n",
    "def df_to_string(recipe):\n",
    "    title=recipe['title'] + '\\n\\n'\n",
    "    ingredients=recipe['ingredients']\n",
    "    instructions=recipe['recipe']\n",
    "    instructions=instructions.replace('\\n', '')\n",
    "    \n",
    "    #seperate the ingredients by comma\n",
    "    ingredients=ingredients.split(',')\n",
    "    instructions=instructions.split('.')\n",
    "    \n",
    "    #add the title marker and the title of the recipe to the return string\n",
    "    return_string=title_marker + title +ingredients_marker\n",
    "    \n",
    "    for ingredient in ingredients:\n",
    "        return_string += f'▪︎ {ingredient}\\n'\n",
    "        \n",
    "    return_string+='\\n\\n'+instructions_marker\n",
    "    \n",
    "    for instruction in instructions:\n",
    "        return_string+=f'▪︎ {instruction}.\\n'\n",
    "    return return_string\n",
    "        \n",
    "        \n",
    "    "
   ]
  },
  {
   "cell_type": "code",
   "execution_count": 14,
   "id": "90a820e0",
   "metadata": {
    "id": "90a820e0"
   },
   "outputs": [],
   "source": [
    "recipes_string=''\n",
    "for i in range(recipes['title'].size):\n",
    "    recipes_string+=(df_to_string(recipes.iloc[i]))\n",
    "\n"
   ]
  },
  {
   "cell_type": "code",
   "execution_count": 15,
   "id": "d305200f",
   "metadata": {
    "colab": {
     "base_uri": "https://localhost:8080/"
    },
    "id": "d305200f",
    "outputId": "251294f1-c46a-4a84-e440-f1f4c6080253"
   },
   "outputs": [
    {
     "name": "stdout",
     "output_type": "stream",
     "text": [
      "12132467\n"
     ]
    }
   ],
   "source": [
    "print(len(recipes_string))"
   ]
  },
  {
   "cell_type": "code",
   "execution_count": 16,
   "id": "1a68afed",
   "metadata": {
    "id": "1a68afed"
   },
   "outputs": [],
   "source": [
    "def split(recipes_string, max_len, step_size = 1):\n",
    "\n",
    "    lines = []\n",
    "    next_chars = []\n",
    "\n",
    "    for i in range(0, len(recipes_string) - max_len, step_size):\n",
    "        lines.append(recipes_string[i:i+max_len])\n",
    "        next_chars.append(recipes_string[i+max_len])\n",
    "    \n",
    "    return lines, next_chars"
   ]
  },
  {
   "cell_type": "code",
   "execution_count": 17,
   "id": "790957a8",
   "metadata": {
    "colab": {
     "base_uri": "https://localhost:8080/"
    },
    "id": "790957a8",
    "outputId": "9aa9f994-6baa-41bc-a923-81c0e05e205e",
    "scrolled": true
   },
   "outputs": [
    {
     "name": "stdout",
     "output_type": "stream",
     "text": [
      "ove garlic\n",
      "▪︎  mince     =>    d\n",
      "ated lemon zest \n",
      "\n",
      "\n",
      "I     =>    n\n",
      "t the veal shanks li     =>    g\n",
      "  Melt the butter in     =>     \n",
      "r medium to medium-h     =>    i\n"
     ]
    }
   ],
   "source": [
    "max_len = 20\n",
    "\n",
    "lines, next_chars =  split(recipes_string, max_len = max_len, step_size = 40)\n",
    "for i in range(10, 15):\n",
    "    print(lines[i] + \"     =>    \" + next_chars[i])"
   ]
  },
  {
   "cell_type": "code",
   "execution_count": 18,
   "id": "1c5468f4",
   "metadata": {
    "id": "1c5468f4"
   },
   "outputs": [],
   "source": [
    "chars = sorted(set(recipes_string))\n",
    "char_indices = {char : chars.index(char) for char in chars}\n",
    "X = np.zeros((len(lines), max_len, len(chars)))\n",
    "y = np.zeros((len(lines), 1), dtype = np.int32)\n",
    "for i, line in enumerate(lines):\n",
    "\tfor t, char in enumerate(line):\n",
    "\t\tX[i, t, char_indices[char]] = 1\n",
    "\ty[i] = char_indices[next_chars[i]]"
   ]
  },
  {
   "cell_type": "code",
   "execution_count": 19,
   "id": "d035d789",
   "metadata": {
    "colab": {
     "base_uri": "https://localhost:8080/"
    },
    "id": "d035d789",
    "outputId": "cf38f83c-97ea-443e-9528-47e2f27349bf"
   },
   "outputs": [
    {
     "data": {
      "text/plain": [
       "((303312, 20, 110), (303312, 1))"
      ]
     },
     "execution_count": 19,
     "metadata": {},
     "output_type": "execute_result"
    }
   ],
   "source": [
    "X.shape, y.shape"
   ]
  },
  {
   "cell_type": "code",
   "execution_count": 31,
   "id": "e7b7fae1",
   "metadata": {
    "colab": {
     "base_uri": "https://localhost:8080/"
    },
    "id": "e7b7fae1",
    "outputId": "82d6c460-f84f-4023-c054-670868bad346"
   },
   "outputs": [],
   "source": [
    "filename = 'X.pkl'\n",
    "pickle.dump(X, open(filename, 'wb'))"
   ]
  },
  {
   "cell_type": "code",
   "execution_count": 21,
   "id": "f22cc059",
   "metadata": {
    "id": "f22cc059"
   },
   "outputs": [],
   "source": [
    "train_len = int(0.7*X.shape[0])\n",
    "X_train = X[0:train_len]\n",
    "X_val = X[train_len:]\n",
    "\n",
    "y_train = y[0:train_len]\n",
    "y_val  = y[train_len:]"
   ]
  },
  {
   "cell_type": "code",
   "execution_count": 18,
   "id": "a193a929",
   "metadata": {
    "id": "a193a929"
   },
   "outputs": [],
   "source": [
    "model = tf.keras.models.Sequential([\n",
    "    layers.LSTM(128, name = \"LSTM\", input_shape=(max_len, len(chars))),\n",
    "    layers.Dense(len(chars))        \n",
    "])"
   ]
  },
  {
   "cell_type": "code",
   "execution_count": 19,
   "id": "e437d8f4",
   "metadata": {
    "id": "e437d8f4"
   },
   "outputs": [],
   "source": [
    "model.compile(loss = tf.keras.losses.SparseCategoricalCrossentropy(from_logits = True), \n",
    "              optimizer = \"adam\")"
   ]
  },
  {
   "cell_type": "code",
   "execution_count": 20,
   "id": "0cf799d7",
   "metadata": {
    "colab": {
     "base_uri": "https://localhost:8080/",
     "height": 1000
    },
    "id": "0cf799d7",
    "outputId": "c61d340d-8f97-4da7-8a01-0b13bd008727"
   },
   "outputs": [
    {
     "name": "stdout",
     "output_type": "stream",
     "text": [
      "Epoch 1/50\n",
      "1659/1659 [==============================] - 14s 6ms/step - loss: 2.4823 - val_loss: 2.0142\n",
      "Epoch 2/50\n",
      "1659/1659 [==============================] - 8s 5ms/step - loss: 1.8572 - val_loss: 1.7137\n",
      "Epoch 3/50\n",
      "1659/1659 [==============================] - 8s 5ms/step - loss: 1.6365 - val_loss: 1.5584\n",
      "Epoch 4/50\n",
      "1659/1659 [==============================] - 8s 5ms/step - loss: 1.5016 - val_loss: 1.4478\n",
      "Epoch 5/50\n",
      "1659/1659 [==============================] - 8s 5ms/step - loss: 1.4010 - val_loss: 1.3666\n",
      "Epoch 6/50\n",
      "1659/1659 [==============================] - 8s 5ms/step - loss: 1.3200 - val_loss: 1.3079\n",
      "Epoch 7/50\n",
      "1659/1659 [==============================] - 8s 5ms/step - loss: 1.2524 - val_loss: 1.2576\n",
      "Epoch 8/50\n",
      "1659/1659 [==============================] - 8s 5ms/step - loss: 1.1949 - val_loss: 1.2075\n",
      "Epoch 9/50\n",
      "1659/1659 [==============================] - 8s 5ms/step - loss: 1.1461 - val_loss: 1.1707\n",
      "Epoch 10/50\n",
      "1659/1659 [==============================] - 8s 5ms/step - loss: 1.1054 - val_loss: 1.1456\n",
      "Epoch 11/50\n",
      "1659/1659 [==============================] - 8s 5ms/step - loss: 1.0696 - val_loss: 1.1153\n",
      "Epoch 12/50\n",
      "1659/1659 [==============================] - 8s 5ms/step - loss: 1.0382 - val_loss: 1.0993\n",
      "Epoch 13/50\n",
      "1659/1659 [==============================] - 8s 5ms/step - loss: 1.0105 - val_loss: 1.0819\n",
      "Epoch 14/50\n",
      "1659/1659 [==============================] - 8s 5ms/step - loss: 0.9859 - val_loss: 1.0679\n",
      "Epoch 15/50\n",
      "1659/1659 [==============================] - 8s 5ms/step - loss: 0.9630 - val_loss: 1.0531\n",
      "Epoch 16/50\n",
      "1659/1659 [==============================] - 8s 5ms/step - loss: 0.9417 - val_loss: 1.0435\n",
      "Epoch 17/50\n",
      "1659/1659 [==============================] - 8s 5ms/step - loss: 0.9232 - val_loss: 1.0258\n",
      "Epoch 18/50\n",
      "1659/1659 [==============================] - 8s 5ms/step - loss: 0.9047 - val_loss: 1.0270\n",
      "Epoch 19/50\n",
      "1659/1659 [==============================] - 8s 5ms/step - loss: 0.8883 - val_loss: 1.0171\n",
      "Epoch 20/50\n",
      "1659/1659 [==============================] - 8s 5ms/step - loss: 0.8720 - val_loss: 1.0150\n",
      "Epoch 21/50\n",
      "1659/1659 [==============================] - 8s 5ms/step - loss: 0.8578 - val_loss: 1.0081\n",
      "Epoch 22/50\n",
      "1659/1659 [==============================] - 8s 5ms/step - loss: 0.8441 - val_loss: 1.0046\n",
      "Epoch 23/50\n",
      "1659/1659 [==============================] - 8s 5ms/step - loss: 0.8307 - val_loss: 1.0045\n",
      "Epoch 24/50\n",
      "1659/1659 [==============================] - 8s 5ms/step - loss: 0.8183 - val_loss: 1.0003\n",
      "Epoch 25/50\n",
      "1659/1659 [==============================] - 8s 5ms/step - loss: 0.8061 - val_loss: 0.9915\n",
      "Epoch 26/50\n",
      "1659/1659 [==============================] - 8s 5ms/step - loss: 0.7944 - val_loss: 1.0066\n",
      "Epoch 27/50\n",
      "1659/1659 [==============================] - 8s 5ms/step - loss: 0.7830 - val_loss: 0.9962\n",
      "Epoch 28/50\n",
      "1659/1659 [==============================] - 8s 5ms/step - loss: 0.7733 - val_loss: 1.0036\n",
      "Epoch 29/50\n",
      " 305/1659 [====>.........................] - ETA: 5s - loss: 0.7491"
     ]
    },
    {
     "ename": "KeyboardInterrupt",
     "evalue": "ignored",
     "output_type": "error",
     "traceback": [
      "\u001b[0;31m---------------------------------------------------------------------------\u001b[0m",
      "\u001b[0;31mKeyboardInterrupt\u001b[0m                         Traceback (most recent call last)",
      "\u001b[0;32m<ipython-input-20-89a061534b29>\u001b[0m in \u001b[0;36m<module>\u001b[0;34m()\u001b[0m\n\u001b[1;32m      2\u001b[0m           \u001b[0my_train\u001b[0m\u001b[0;34m,\u001b[0m\u001b[0;34m\u001b[0m\u001b[0;34m\u001b[0m\u001b[0m\n\u001b[1;32m      3\u001b[0m           \u001b[0mvalidation_data\u001b[0m\u001b[0;34m=\u001b[0m \u001b[0;34m(\u001b[0m\u001b[0mX_val\u001b[0m\u001b[0;34m,\u001b[0m \u001b[0my_val\u001b[0m\u001b[0;34m)\u001b[0m\u001b[0;34m,\u001b[0m\u001b[0;34m\u001b[0m\u001b[0;34m\u001b[0m\u001b[0m\n\u001b[0;32m----> 4\u001b[0;31m           batch_size=128, epochs = 50)\n\u001b[0m",
      "\u001b[0;32m/usr/local/lib/python3.7/dist-packages/keras/utils/traceback_utils.py\u001b[0m in \u001b[0;36merror_handler\u001b[0;34m(*args, **kwargs)\u001b[0m\n\u001b[1;32m     62\u001b[0m     \u001b[0mfiltered_tb\u001b[0m \u001b[0;34m=\u001b[0m \u001b[0;32mNone\u001b[0m\u001b[0;34m\u001b[0m\u001b[0;34m\u001b[0m\u001b[0m\n\u001b[1;32m     63\u001b[0m     \u001b[0;32mtry\u001b[0m\u001b[0;34m:\u001b[0m\u001b[0;34m\u001b[0m\u001b[0;34m\u001b[0m\u001b[0m\n\u001b[0;32m---> 64\u001b[0;31m       \u001b[0;32mreturn\u001b[0m \u001b[0mfn\u001b[0m\u001b[0;34m(\u001b[0m\u001b[0;34m*\u001b[0m\u001b[0margs\u001b[0m\u001b[0;34m,\u001b[0m \u001b[0;34m**\u001b[0m\u001b[0mkwargs\u001b[0m\u001b[0;34m)\u001b[0m\u001b[0;34m\u001b[0m\u001b[0;34m\u001b[0m\u001b[0m\n\u001b[0m\u001b[1;32m     65\u001b[0m     \u001b[0;32mexcept\u001b[0m \u001b[0mException\u001b[0m \u001b[0;32mas\u001b[0m \u001b[0me\u001b[0m\u001b[0;34m:\u001b[0m  \u001b[0;31m# pylint: disable=broad-except\u001b[0m\u001b[0;34m\u001b[0m\u001b[0;34m\u001b[0m\u001b[0m\n\u001b[1;32m     66\u001b[0m       \u001b[0mfiltered_tb\u001b[0m \u001b[0;34m=\u001b[0m \u001b[0m_process_traceback_frames\u001b[0m\u001b[0;34m(\u001b[0m\u001b[0me\u001b[0m\u001b[0;34m.\u001b[0m\u001b[0m__traceback__\u001b[0m\u001b[0;34m)\u001b[0m\u001b[0;34m\u001b[0m\u001b[0;34m\u001b[0m\u001b[0m\n",
      "\u001b[0;32m/usr/local/lib/python3.7/dist-packages/keras/engine/training.py\u001b[0m in \u001b[0;36mfit\u001b[0;34m(self, x, y, batch_size, epochs, verbose, callbacks, validation_split, validation_data, shuffle, class_weight, sample_weight, initial_epoch, steps_per_epoch, validation_steps, validation_batch_size, validation_freq, max_queue_size, workers, use_multiprocessing)\u001b[0m\n\u001b[1;32m   1382\u001b[0m                 _r=1):\n\u001b[1;32m   1383\u001b[0m               \u001b[0mcallbacks\u001b[0m\u001b[0;34m.\u001b[0m\u001b[0mon_train_batch_begin\u001b[0m\u001b[0;34m(\u001b[0m\u001b[0mstep\u001b[0m\u001b[0;34m)\u001b[0m\u001b[0;34m\u001b[0m\u001b[0;34m\u001b[0m\u001b[0m\n\u001b[0;32m-> 1384\u001b[0;31m               \u001b[0mtmp_logs\u001b[0m \u001b[0;34m=\u001b[0m \u001b[0mself\u001b[0m\u001b[0;34m.\u001b[0m\u001b[0mtrain_function\u001b[0m\u001b[0;34m(\u001b[0m\u001b[0miterator\u001b[0m\u001b[0;34m)\u001b[0m\u001b[0;34m\u001b[0m\u001b[0;34m\u001b[0m\u001b[0m\n\u001b[0m\u001b[1;32m   1385\u001b[0m               \u001b[0;32mif\u001b[0m \u001b[0mdata_handler\u001b[0m\u001b[0;34m.\u001b[0m\u001b[0mshould_sync\u001b[0m\u001b[0;34m:\u001b[0m\u001b[0;34m\u001b[0m\u001b[0;34m\u001b[0m\u001b[0m\n\u001b[1;32m   1386\u001b[0m                 \u001b[0mcontext\u001b[0m\u001b[0;34m.\u001b[0m\u001b[0masync_wait\u001b[0m\u001b[0;34m(\u001b[0m\u001b[0;34m)\u001b[0m\u001b[0;34m\u001b[0m\u001b[0;34m\u001b[0m\u001b[0m\n",
      "\u001b[0;32m/usr/local/lib/python3.7/dist-packages/tensorflow/python/util/traceback_utils.py\u001b[0m in \u001b[0;36merror_handler\u001b[0;34m(*args, **kwargs)\u001b[0m\n\u001b[1;32m    148\u001b[0m     \u001b[0mfiltered_tb\u001b[0m \u001b[0;34m=\u001b[0m \u001b[0;32mNone\u001b[0m\u001b[0;34m\u001b[0m\u001b[0;34m\u001b[0m\u001b[0m\n\u001b[1;32m    149\u001b[0m     \u001b[0;32mtry\u001b[0m\u001b[0;34m:\u001b[0m\u001b[0;34m\u001b[0m\u001b[0;34m\u001b[0m\u001b[0m\n\u001b[0;32m--> 150\u001b[0;31m       \u001b[0;32mreturn\u001b[0m \u001b[0mfn\u001b[0m\u001b[0;34m(\u001b[0m\u001b[0;34m*\u001b[0m\u001b[0margs\u001b[0m\u001b[0;34m,\u001b[0m \u001b[0;34m**\u001b[0m\u001b[0mkwargs\u001b[0m\u001b[0;34m)\u001b[0m\u001b[0;34m\u001b[0m\u001b[0;34m\u001b[0m\u001b[0m\n\u001b[0m\u001b[1;32m    151\u001b[0m     \u001b[0;32mexcept\u001b[0m \u001b[0mException\u001b[0m \u001b[0;32mas\u001b[0m \u001b[0me\u001b[0m\u001b[0;34m:\u001b[0m\u001b[0;34m\u001b[0m\u001b[0;34m\u001b[0m\u001b[0m\n\u001b[1;32m    152\u001b[0m       \u001b[0mfiltered_tb\u001b[0m \u001b[0;34m=\u001b[0m \u001b[0m_process_traceback_frames\u001b[0m\u001b[0;34m(\u001b[0m\u001b[0me\u001b[0m\u001b[0;34m.\u001b[0m\u001b[0m__traceback__\u001b[0m\u001b[0;34m)\u001b[0m\u001b[0;34m\u001b[0m\u001b[0;34m\u001b[0m\u001b[0m\n",
      "\u001b[0;32m/usr/local/lib/python3.7/dist-packages/tensorflow/python/eager/def_function.py\u001b[0m in \u001b[0;36m__call__\u001b[0;34m(self, *args, **kwds)\u001b[0m\n\u001b[1;32m    913\u001b[0m \u001b[0;34m\u001b[0m\u001b[0m\n\u001b[1;32m    914\u001b[0m       \u001b[0;32mwith\u001b[0m \u001b[0mOptionalXlaContext\u001b[0m\u001b[0;34m(\u001b[0m\u001b[0mself\u001b[0m\u001b[0;34m.\u001b[0m\u001b[0m_jit_compile\u001b[0m\u001b[0;34m)\u001b[0m\u001b[0;34m:\u001b[0m\u001b[0;34m\u001b[0m\u001b[0;34m\u001b[0m\u001b[0m\n\u001b[0;32m--> 915\u001b[0;31m         \u001b[0mresult\u001b[0m \u001b[0;34m=\u001b[0m \u001b[0mself\u001b[0m\u001b[0;34m.\u001b[0m\u001b[0m_call\u001b[0m\u001b[0;34m(\u001b[0m\u001b[0;34m*\u001b[0m\u001b[0margs\u001b[0m\u001b[0;34m,\u001b[0m \u001b[0;34m**\u001b[0m\u001b[0mkwds\u001b[0m\u001b[0;34m)\u001b[0m\u001b[0;34m\u001b[0m\u001b[0;34m\u001b[0m\u001b[0m\n\u001b[0m\u001b[1;32m    916\u001b[0m \u001b[0;34m\u001b[0m\u001b[0m\n\u001b[1;32m    917\u001b[0m       \u001b[0mnew_tracing_count\u001b[0m \u001b[0;34m=\u001b[0m \u001b[0mself\u001b[0m\u001b[0;34m.\u001b[0m\u001b[0mexperimental_get_tracing_count\u001b[0m\u001b[0;34m(\u001b[0m\u001b[0;34m)\u001b[0m\u001b[0;34m\u001b[0m\u001b[0;34m\u001b[0m\u001b[0m\n",
      "\u001b[0;32m/usr/local/lib/python3.7/dist-packages/tensorflow/python/eager/def_function.py\u001b[0m in \u001b[0;36m_call\u001b[0;34m(self, *args, **kwds)\u001b[0m\n\u001b[1;32m    945\u001b[0m       \u001b[0;31m# In this case we have created variables on the first call, so we run the\u001b[0m\u001b[0;34m\u001b[0m\u001b[0;34m\u001b[0m\u001b[0;34m\u001b[0m\u001b[0m\n\u001b[1;32m    946\u001b[0m       \u001b[0;31m# defunned version which is guaranteed to never create variables.\u001b[0m\u001b[0;34m\u001b[0m\u001b[0;34m\u001b[0m\u001b[0;34m\u001b[0m\u001b[0m\n\u001b[0;32m--> 947\u001b[0;31m       \u001b[0;32mreturn\u001b[0m \u001b[0mself\u001b[0m\u001b[0;34m.\u001b[0m\u001b[0m_stateless_fn\u001b[0m\u001b[0;34m(\u001b[0m\u001b[0;34m*\u001b[0m\u001b[0margs\u001b[0m\u001b[0;34m,\u001b[0m \u001b[0;34m**\u001b[0m\u001b[0mkwds\u001b[0m\u001b[0;34m)\u001b[0m  \u001b[0;31m# pylint: disable=not-callable\u001b[0m\u001b[0;34m\u001b[0m\u001b[0;34m\u001b[0m\u001b[0m\n\u001b[0m\u001b[1;32m    948\u001b[0m     \u001b[0;32melif\u001b[0m \u001b[0mself\u001b[0m\u001b[0;34m.\u001b[0m\u001b[0m_stateful_fn\u001b[0m \u001b[0;32mis\u001b[0m \u001b[0;32mnot\u001b[0m \u001b[0;32mNone\u001b[0m\u001b[0;34m:\u001b[0m\u001b[0;34m\u001b[0m\u001b[0;34m\u001b[0m\u001b[0m\n\u001b[1;32m    949\u001b[0m       \u001b[0;31m# Release the lock early so that multiple threads can perform the call\u001b[0m\u001b[0;34m\u001b[0m\u001b[0;34m\u001b[0m\u001b[0;34m\u001b[0m\u001b[0m\n",
      "\u001b[0;32m/usr/local/lib/python3.7/dist-packages/tensorflow/python/eager/function.py\u001b[0m in \u001b[0;36m__call__\u001b[0;34m(self, *args, **kwargs)\u001b[0m\n\u001b[1;32m   2953\u001b[0m     \u001b[0;32mwith\u001b[0m \u001b[0mself\u001b[0m\u001b[0;34m.\u001b[0m\u001b[0m_lock\u001b[0m\u001b[0;34m:\u001b[0m\u001b[0;34m\u001b[0m\u001b[0;34m\u001b[0m\u001b[0m\n\u001b[1;32m   2954\u001b[0m       (graph_function,\n\u001b[0;32m-> 2955\u001b[0;31m        filtered_flat_args) = self._maybe_define_function(args, kwargs)\n\u001b[0m\u001b[1;32m   2956\u001b[0m     return graph_function._call_flat(\n\u001b[1;32m   2957\u001b[0m         filtered_flat_args, captured_inputs=graph_function.captured_inputs)  # pylint: disable=protected-access\n",
      "\u001b[0;31mKeyboardInterrupt\u001b[0m: "
     ]
    }
   ],
   "source": [
    "model.fit(X_train, \n",
    "          y_train,\n",
    "          validation_data= (X_val, y_val),\n",
    "          batch_size=128, epochs = 50)"
   ]
  },
  {
   "cell_type": "code",
   "execution_count": 24,
   "id": "5b1f3deb",
   "metadata": {},
   "outputs": [
    {
     "name": "stdout",
     "output_type": "stream",
     "text": [
      "110\n"
     ]
    }
   ],
   "source": [
    "print(len(chars))"
   ]
  },
  {
   "cell_type": "code",
   "execution_count": 25,
   "id": "qCcT09ad_b4u",
   "metadata": {
    "id": "qCcT09ad_b4u"
   },
   "outputs": [],
   "source": [
    "from scipy.special import softmax\n",
    "max_len = 20\n",
    "\n",
    "\n",
    "def sample(preds, temp):\n",
    "    \n",
    "    # format the model predictions\n",
    "    preds = np.asarray(preds).astype(\"float64\")\n",
    "    \n",
    "    # construct normalized Boltzman with temp\n",
    "    probs = np.exp(preds/temp)\n",
    "    probs = probs / probs.sum()\n",
    "    \n",
    "    # sample from Boltzman\n",
    "    samp = np.random.multinomial(1, probs, 1)\n",
    "    return np.argmax(samp)\n",
    "\n",
    "def generate_string(seed_index, temp, gen_length, model): \n",
    "    \n",
    "    # sequence of integer indices for generated text\n",
    "    gen_seq = np.zeros((max_len + gen_length, 110))\n",
    "    \n",
    "    # first part of the generated indices actually corresponds to the real text\n",
    "    seed = X[seed_index]\n",
    "    gen_seq[0:max_len] = seed\n",
    "    \n",
    "    # character version\n",
    "    gen_text = lines[seed_index]\n",
    "    \n",
    "    # main loop. \n",
    "    # at each stage we are going to get a single \n",
    "    # character from the model prediction (with the sample function)\n",
    "    # and then feed that character BACK into the model as \"data\"\n",
    "    # for the next prediction\n",
    "    for i in range(0, gen_length):\n",
    "        \n",
    "        # this corresponds to the part of the generated\n",
    "        # text that the model can \"see\"\n",
    "        window = gen_seq[i: i + max_len]\n",
    "        \n",
    "        # get the prediction and sample a single index\n",
    "        preds = model.predict(np.array([window]))[0]\n",
    "        preds = softmax(preds)\n",
    "        next_index = sample(preds, temp)\n",
    "        \n",
    "        # add sampled index to the current output\n",
    "        gen_seq[max_len + i, next_index] = True\n",
    "        \n",
    "        # create the string version\n",
    "        next_char = chars[next_index]\n",
    "        gen_text += next_char\n",
    "    \n",
    "    # only return the string version because that's what we care about\n",
    "    return(gen_text)"
   ]
  },
  {
   "cell_type": "code",
   "execution_count": 32,
   "id": "dc16a03c",
   "metadata": {},
   "outputs": [],
   "source": [
    "import pickle\n",
    "filename = 'lines.pkl'\n",
    "pickle.dump(lines, open(filename, 'wb'))"
   ]
  },
  {
   "cell_type": "code",
   "execution_count": 28,
   "id": "ed4uxu4EBPpu",
   "metadata": {
    "id": "ed4uxu4EBPpu"
   },
   "outputs": [],
   "source": [
    "gen = generate_string(8, .1, 2000, new_model)\n"
   ]
  },
  {
   "cell_type": "code",
   "execution_count": 29,
   "id": "-b0vPa_SFnW9",
   "metadata": {
    "colab": {
     "base_uri": "https://localhost:8080/"
    },
    "id": "-b0vPa_SFnW9",
    "outputId": "6332fdfd-b72d-4154-c4ee-6b668aa6a9f6"
   },
   "outputs": [
    {
     "name": "stdout",
     "output_type": "stream",
     "text": [
      "\n",
      "▪︎  salt and pepper to taste \n",
      "▪︎ ; cups liPf[\n",
      "▪︎  cNCar9 leaç\n",
      "▪︎  KeYting äaUsonA\n",
      "▪︎  divided \n",
      "▪︎ 0 Ægge\n",
      "▪︎ I[a cheesehn\n",
      "▪︎  dr™ed eOns diced U⅝y to½ onBo and m—ated Grping water IJans\n",
      "\n",
      "Ingredients: \n",
      "▪︎ 1 ( ½Æ Al\n",
      ") cunGWzQPiuXsJirg  èriVs\n",
      "▪︎  &iy Fi: GWic/en&-ina0 Ca⅜sely\n",
      "\n",
      "Ingredients: \n",
      "▪︎ ½ cup uncooked #el14'\n",
      "9ng dried onion\n",
      "▪︎  chopped \n",
      "▪︎ 9 ︎ ’[ices \n",
      "▪︎ ro.\n",
      "▪︎  THwini¾ Stick EnYaB(\n",
      "▪︎  1/Tuèc  and in[oèp zfjté  éaéshXoe; meat ⅛ster.\n",
      "▪︎  *li¼ the chicken ¼ c3 yYuBh andve ¼°coDing Na0 cheeserG\n",
      "\n",
      "Ingredients: \n",
      "▪︎ fTo—s\n",
      "▪︎  XincMed -ac\" ⅜™chred èreen g\n",
      "3 In\"alladiDK : \n",
      "▪︎ O!cun⅜ DutchWN\n",
      "PN oGan 6 eKper with until a  &VinelaiKàato form cooked Fi m ñeaÆ (Mickles in Tarder \n",
      "\n",
      "Ingredients: \n",
      "▪︎ 1 Maked tomato sauce ⅜n 'artÆ yolks.\n",
      "▪︎  çquis' garlic éa’s and !8 on; cook , ⁄a⅜s and 1/2 Uf the 6 It Ita⅝ Venzer sauce in&o and ) ñ5 Ze%ie.\n",
      "▪︎  ⅛ teatesg  armo.\n",
      "▪︎  in .\n",
      "Æ Titl:?spacceeäl \"ar!gè™ ax ︎ terèed &nXom ted /äYoBa  are c7 9 #ightUYo *hen zucchini#n\n",
      "\n",
      "Ingredients: \n",
      "▪︎ 1™poones QumTA %Moni9n\n",
      "▪︎  8 ⅛QOines sed2 tomat™esG⅜[ ChQpint halque⅛ cs6 tender, fiE⅞ to the xa9sing ⅛°ter, and cook ⁄8 ° te6 ?ackson of \"mCoNd Xasvcr /Vs3 /⅜ cuBar ch3ess.\n",
      "▪︎  bele so2 eggs cven⅓ mixture into 1⁄’9 into °ar—ee g  */4 : anounSt: and ) torq in]d  and Gjuc5 —ey lihet !ansly —®èree -Jach the , and  alled °éàe2 Zicequn0 x'ste¼ and Vege⅓ toJDing %ge do°Y oO K︎ Go]4 mix 6 hours.\n",
      "▪︎ : place Æ to !%umhwa8 yo¼ ch®ed Net mixture \n",
      "▪︎ ]oussed \n",
      "▪︎ 1 ?: yolks⅛ chicken \n",
      "▪︎ 1 Italian seSte¾ \n",
      "▪︎ \" freFlen*kvep FreXRèing M2xigeV.\n",
      "▪︎ Bake each miVk Ta!Frin Ta°⅔a2 from the 'as⁄ning qu's°And ¾¼ 3 tablespoons ½ toStions/2  ae]⅓ lightg about juiceg èrE  hour¾ cover and Stick, and èrboDing Quicean for 'a¾ in dish.\n",
      "▪︎  7#inch tolStv4 é¼ mediamV) and 7 teansWo0 oran⅝e▪K Nean cheese0 Jack Mexñ!atGhe\n",
      "\n",
      "Ingredients: \n",
      "▪︎ 2 ™ach⅛ &hocDè[\n",
      "▪︎  &reaät︎ Æ teaips#on fiJenves, and Eggjricks noket Remon [eYos\n",
      "an meatug⅜ n⅓ \"Egg to5 ñ/l⁄wi︎ and ¾ to nVenled ⁄aste3 5 to Cheeds.\n",
      "▪︎ Vellow ⅔: , at least UsC5 GongaZñves \n",
      "▪︎ po'ssed \n",
      "▪︎ ?occo⁄s\n",
      "▪︎  XincI\n"
     ]
    }
   ],
   "source": [
    "print(gen)"
   ]
  },
  {
   "cell_type": "code",
   "execution_count": 26,
   "id": "EgTpgT3LIthC",
   "metadata": {
    "id": "EgTpgT3LIthC"
   },
   "outputs": [],
   "source": [
    "#!mkdir -p recipe_gen_model\n",
    "#model.save('recipe_gen_model.h5')"
   ]
  },
  {
   "cell_type": "code",
   "execution_count": 3,
   "id": "Yq-tMMBOGali",
   "metadata": {
    "colab": {
     "base_uri": "https://localhost:8080/",
     "height": 409
    },
    "id": "Yq-tMMBOGali",
    "outputId": "a33860a6-f8d2-4944-ae1a-598478a8ff34"
   },
   "outputs": [],
   "source": [
    "new_model = tf.keras.models.load_model('flaskyy/recipe_gen_model.h5')"
   ]
  },
  {
   "cell_type": "code",
   "execution_count": 6,
   "id": "ybcx3X1VAEke",
   "metadata": {
    "colab": {
     "base_uri": "https://localhost:8080/",
     "height": 392
    },
    "id": "ybcx3X1VAEke",
    "outputId": "fa7cd3cd-1fc4-4998-932c-7fbf4e372aef"
   },
   "outputs": [
    {
     "ename": "NameError",
     "evalue": "name 'model' is not defined",
     "output_type": "error",
     "traceback": [
      "\u001b[0;31m---------------------------------------------------------------------------\u001b[0m",
      "\u001b[0;31mNameError\u001b[0m                                 Traceback (most recent call last)",
      "\u001b[0;32m<ipython-input-6-3002630177d2>\u001b[0m in \u001b[0;36m<module>\u001b[0;34m\u001b[0m\n\u001b[1;32m      4\u001b[0m \u001b[0;32mfor\u001b[0m \u001b[0mtemp\u001b[0m \u001b[0;32min\u001b[0m \u001b[0;34m[\u001b[0m\u001b[0;36m0.01\u001b[0m\u001b[0;34m,\u001b[0m \u001b[0;36m0.02\u001b[0m\u001b[0;34m,\u001b[0m \u001b[0;36m0.03\u001b[0m\u001b[0;34m,\u001b[0m \u001b[0;36m0.04\u001b[0m\u001b[0;34m,\u001b[0m \u001b[0;36m0.05\u001b[0m\u001b[0;34m]\u001b[0m\u001b[0;34m:\u001b[0m\u001b[0;34m\u001b[0m\u001b[0;34m\u001b[0m\u001b[0m\n\u001b[1;32m      5\u001b[0m \u001b[0;34m\u001b[0m\u001b[0m\n\u001b[0;32m----> 6\u001b[0;31m     \u001b[0mgen\u001b[0m \u001b[0;34m=\u001b[0m \u001b[0mgenerate_string\u001b[0m\u001b[0;34m(\u001b[0m\u001b[0mseed_index\u001b[0m\u001b[0;34m,\u001b[0m \u001b[0mtemp\u001b[0m\u001b[0;34m,\u001b[0m \u001b[0mgen_length\u001b[0m\u001b[0;34m,\u001b[0m \u001b[0mmodel\u001b[0m\u001b[0;34m)\u001b[0m\u001b[0;34m\u001b[0m\u001b[0;34m\u001b[0m\u001b[0m\n\u001b[0m\u001b[1;32m      7\u001b[0m \u001b[0;34m\u001b[0m\u001b[0m\n\u001b[1;32m      8\u001b[0m     \u001b[0mprint\u001b[0m\u001b[0;34m(\u001b[0m\u001b[0;36m4\u001b[0m\u001b[0;34m*\u001b[0m\u001b[0;34m\"-\"\u001b[0m\u001b[0;34m)\u001b[0m\u001b[0;34m\u001b[0m\u001b[0;34m\u001b[0m\u001b[0m\n",
      "\u001b[0;31mNameError\u001b[0m: name 'model' is not defined"
     ]
    }
   ],
   "source": [
    "gen_length = 1000\n",
    "seed_index = 7\n",
    "\n",
    "for temp in [0.01, 0.02, 0.03, 0.04, 0.05]:\n",
    "\n",
    "    gen = generate_string(seed_index, temp, gen_length, model)\n",
    "\n",
    "    print(4*\"-\")\n",
    "    print(\"TEMPERATURE: \" + str(temp))\n",
    "    print(gen[:-gen_length], end=\"\")\n",
    "    print(\" => \", end = \"\")\n",
    "    print(gen[-gen_length:], \"\")"
   ]
  },
  {
   "cell_type": "code",
   "execution_count": null,
   "id": "95edcd20",
   "metadata": {},
   "outputs": [],
   "source": []
  }
 ],
 "metadata": {
  "accelerator": "GPU",
  "colab": {
   "collapsed_sections": [],
   "machine_shape": "hm",
   "name": "Text Generator 2.ipynb",
   "provenance": []
  },
  "kernelspec": {
   "display_name": "Python 3",
   "language": "python",
   "name": "python3"
  },
  "language_info": {
   "codemirror_mode": {
    "name": "ipython",
    "version": 3
   },
   "file_extension": ".py",
   "mimetype": "text/x-python",
   "name": "python",
   "nbconvert_exporter": "python",
   "pygments_lexer": "ipython3",
   "version": "3.8.8"
  }
 },
 "nbformat": 4,
 "nbformat_minor": 5
}
