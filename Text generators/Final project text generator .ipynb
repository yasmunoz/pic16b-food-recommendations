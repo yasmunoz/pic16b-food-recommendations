{
 "cells": [
  {
   "cell_type": "code",
   "execution_count": 31,
   "id": "1f3a5a56",
   "metadata": {},
   "outputs": [],
   "source": [
    "import tensorflow as tf\n",
    "import matplotlib.pyplot as plt\n",
    "import numpy as np\n",
    "import json\n",
    "import pandas as pd\n",
    "import tensorflow_text as text\n",
    "import tensorflow_hub as hub\n",
    "\n",
    "import platform\n",
    "import time\n",
    "import pathlib\n",
    "import os"
   ]
  },
  {
   "cell_type": "code",
   "execution_count": 32,
   "id": "11feb014",
   "metadata": {},
   "outputs": [],
   "source": [
    "recipes=pd.read_csv('newresults.csv')"
   ]
  },
  {
   "cell_type": "code",
   "execution_count": 33,
   "id": "446a7a13",
   "metadata": {},
   "outputs": [
    {
     "data": {
      "text/html": [
       "<div>\n",
       "<style scoped>\n",
       "    .dataframe tbody tr th:only-of-type {\n",
       "        vertical-align: middle;\n",
       "    }\n",
       "\n",
       "    .dataframe tbody tr th {\n",
       "        vertical-align: top;\n",
       "    }\n",
       "\n",
       "    .dataframe thead th {\n",
       "        text-align: right;\n",
       "    }\n",
       "</style>\n",
       "<table border=\"1\" class=\"dataframe\">\n",
       "  <thead>\n",
       "    <tr style=\"text-align: right;\">\n",
       "      <th></th>\n",
       "      <th>title</th>\n",
       "      <th>ingredients</th>\n",
       "      <th>recipe</th>\n",
       "      <th>category</th>\n",
       "    </tr>\n",
       "  </thead>\n",
       "  <tbody>\n",
       "    <tr>\n",
       "      <th>0</th>\n",
       "      <td>Traditional Osso Buco</td>\n",
       "      <td>2 pounds veal shanks, cut into short lengths ,...</td>\n",
       "      <td>Dust the veal shanks lightly with flour. Melt ...</td>\n",
       "      <td>Main Dishes</td>\n",
       "    </tr>\n",
       "    <tr>\n",
       "      <th>1</th>\n",
       "      <td>Italian Sausage Soup with Tortellini</td>\n",
       "      <td>1 pound sweet Italian sausage, casings removed...</td>\n",
       "      <td>In a 5-quart Dutch oven, brown sausage. Remove...</td>\n",
       "      <td>Vegetable Soup Recipes</td>\n",
       "    </tr>\n",
       "    <tr>\n",
       "      <th>2</th>\n",
       "      <td>Italian Sausage, Peppers, and Onions</td>\n",
       "      <td>6 (4 ounce) links sweet Italian sausage ,2 tab...</td>\n",
       "      <td>Place the sausage in a large skillet over medi...</td>\n",
       "      <td>Sausage</td>\n",
       "    </tr>\n",
       "    <tr>\n",
       "      <th>3</th>\n",
       "      <td>Tender Italian Baked Chicken</td>\n",
       "      <td>¾ cup mayonnaise ,½ cup grated Parmesan cheese...</td>\n",
       "      <td>Preheat oven to 425 degrees F (220 degrees C)....</td>\n",
       "      <td>Italian</td>\n",
       "    </tr>\n",
       "    <tr>\n",
       "      <th>4</th>\n",
       "      <td>Easy Pizza Sauce I</td>\n",
       "      <td>1 (6 ounce) can tomato paste ,1 ½ cups water ,...</td>\n",
       "      <td>Mix together the tomato paste, water, and oliv...</td>\n",
       "      <td>Pizza Sauce Recipes</td>\n",
       "    </tr>\n",
       "    <tr>\n",
       "      <th>...</th>\n",
       "      <td>...</td>\n",
       "      <td>...</td>\n",
       "      <td>...</td>\n",
       "      <td>...</td>\n",
       "    </tr>\n",
       "    <tr>\n",
       "      <th>10806</th>\n",
       "      <td>Vegetarian Pad Thai</td>\n",
       "      <td>1 (6.75 ounce) package thin rice noodles ,2 ta...</td>\n",
       "      <td>Place noodles in a heatproof bowl and cover wi...</td>\n",
       "      <td>Thai</td>\n",
       "    </tr>\n",
       "    <tr>\n",
       "      <th>10807</th>\n",
       "      <td>Quick and Easy Thai Style Coleslaw</td>\n",
       "      <td>1 (16 ounce) package shredded coleslaw mix ,¼ ...</td>\n",
       "      <td>Pour the coleslaw mix into a large bowl. Pour ...</td>\n",
       "      <td>No Mayo</td>\n",
       "    </tr>\n",
       "    <tr>\n",
       "      <th>10808</th>\n",
       "      <td>Sukhothai Pad Thai</td>\n",
       "      <td>½ cup white sugar ,½ cup distilled white vineg...</td>\n",
       "      <td>To prepare Pad Thai sauce: In a medium saucepa...</td>\n",
       "      <td>Thai</td>\n",
       "    </tr>\n",
       "    <tr>\n",
       "      <th>10809</th>\n",
       "      <td>Slow Cook Thai Chicken</td>\n",
       "      <td>6 skinless, boneless chicken breast halves - c...</td>\n",
       "      <td>Place the chicken breast strips, bell pepper a...</td>\n",
       "      <td>Thai</td>\n",
       "    </tr>\n",
       "    <tr>\n",
       "      <th>10810</th>\n",
       "      <td>Thai Barbeque Marinade</td>\n",
       "      <td>3 tablespoons fish sauce ,2 tablespoons rice w...</td>\n",
       "      <td>Whisk together the fish sauce, rice wine, sesa...</td>\n",
       "      <td>Marinade Recipes</td>\n",
       "    </tr>\n",
       "  </tbody>\n",
       "</table>\n",
       "<p>10547 rows × 4 columns</p>\n",
       "</div>"
      ],
      "text/plain": [
       "                                      title  \\\n",
       "0                     Traditional Osso Buco   \n",
       "1      Italian Sausage Soup with Tortellini   \n",
       "2      Italian Sausage, Peppers, and Onions   \n",
       "3              Tender Italian Baked Chicken   \n",
       "4                        Easy Pizza Sauce I   \n",
       "...                                     ...   \n",
       "10806                   Vegetarian Pad Thai   \n",
       "10807    Quick and Easy Thai Style Coleslaw   \n",
       "10808                    Sukhothai Pad Thai   \n",
       "10809                Slow Cook Thai Chicken   \n",
       "10810                Thai Barbeque Marinade   \n",
       "\n",
       "                                             ingredients  \\\n",
       "0      2 pounds veal shanks, cut into short lengths ,...   \n",
       "1      1 pound sweet Italian sausage, casings removed...   \n",
       "2      6 (4 ounce) links sweet Italian sausage ,2 tab...   \n",
       "3      ¾ cup mayonnaise ,½ cup grated Parmesan cheese...   \n",
       "4      1 (6 ounce) can tomato paste ,1 ½ cups water ,...   \n",
       "...                                                  ...   \n",
       "10806  1 (6.75 ounce) package thin rice noodles ,2 ta...   \n",
       "10807  1 (16 ounce) package shredded coleslaw mix ,¼ ...   \n",
       "10808  ½ cup white sugar ,½ cup distilled white vineg...   \n",
       "10809  6 skinless, boneless chicken breast halves - c...   \n",
       "10810  3 tablespoons fish sauce ,2 tablespoons rice w...   \n",
       "\n",
       "                                                  recipe  \\\n",
       "0      Dust the veal shanks lightly with flour. Melt ...   \n",
       "1      In a 5-quart Dutch oven, brown sausage. Remove...   \n",
       "2      Place the sausage in a large skillet over medi...   \n",
       "3      Preheat oven to 425 degrees F (220 degrees C)....   \n",
       "4      Mix together the tomato paste, water, and oliv...   \n",
       "...                                                  ...   \n",
       "10806  Place noodles in a heatproof bowl and cover wi...   \n",
       "10807  Pour the coleslaw mix into a large bowl. Pour ...   \n",
       "10808  To prepare Pad Thai sauce: In a medium saucepa...   \n",
       "10809  Place the chicken breast strips, bell pepper a...   \n",
       "10810  Whisk together the fish sauce, rice wine, sesa...   \n",
       "\n",
       "                     category  \n",
       "0                 Main Dishes  \n",
       "1      Vegetable Soup Recipes  \n",
       "2                     Sausage  \n",
       "3                     Italian  \n",
       "4         Pizza Sauce Recipes  \n",
       "...                       ...  \n",
       "10806                    Thai  \n",
       "10807                 No Mayo  \n",
       "10808                    Thai  \n",
       "10809                    Thai  \n",
       "10810        Marinade Recipes  \n",
       "\n",
       "[10547 rows x 4 columns]"
      ]
     },
     "execution_count": 33,
     "metadata": {},
     "output_type": "execute_result"
    }
   ],
   "source": [
    "recipes.dropna(inplace=True)\n",
    "recipes"
   ]
  },
  {
   "cell_type": "code",
   "execution_count": 34,
   "id": "74bc25cc",
   "metadata": {},
   "outputs": [
    {
     "data": {
      "text/plain": [
       "title                                               Tahini Salad\n",
       "ingredients    2 pickle-size Persian cucumbers, diced ,1 larg...\n",
       "recipe         Combine the cucumber, tomato, and radish in a ...\n",
       "category                                  Cucumber Salad Recipes\n",
       "Name: 77, dtype: object"
      ]
     },
     "execution_count": 34,
     "metadata": {},
     "output_type": "execute_result"
    }
   ],
   "source": [
    "recipes.iloc[76\n",
    "            ]"
   ]
  },
  {
   "cell_type": "code",
   "execution_count": 35,
   "id": "5d80f888",
   "metadata": {},
   "outputs": [],
   "source": [
    "title_marker='Title: \\n'\n",
    "ingredients_marker='Ingredients: \\n'\n",
    "instructions_marker='Instructions: \\n'\n",
    "\n",
    "def df_to_string(recipe):\n",
    "    title=recipe['title'] + '\\n\\n'\n",
    "    ingredients=recipe['ingredients']\n",
    "    instructions=recipe['recipe']\n",
    "    instructions=instructions.replace('\\n', '')\n",
    "    \n",
    "    #seperate the ingredients by comma\n",
    "    ingredients=ingredients.split(',')\n",
    "    instructions=instructions.split('.')\n",
    "    \n",
    "    #add the title marker and the title of the recipe to the return string\n",
    "    return_string=title_marker + title +ingredients_marker\n",
    "    \n",
    "    for ingredient in ingredients:\n",
    "        return_string += f'▪︎ {ingredient}\\n'\n",
    "        \n",
    "    return_string+='\\n\\n'+instructions_marker\n",
    "    \n",
    "    for instruction in instructions:\n",
    "        return_string+=f'▪︎ {instruction}.\\n'\n",
    "    return return_string\n",
    "        \n",
    "        \n",
    "    \n",
    "    \n",
    "    \n",
    "    "
   ]
  },
  {
   "cell_type": "code",
   "execution_count": 36,
   "id": "5206cb6c",
   "metadata": {},
   "outputs": [],
   "source": [
    "#print(df_to_string(recipes.iloc[76]))"
   ]
  },
  {
   "cell_type": "code",
   "execution_count": 37,
   "id": "04a7e1d6",
   "metadata": {},
   "outputs": [],
   "source": [
    "recipes_string_list=[]\n",
    "for i in range(recipes['title'].size):\n",
    "    recipes_string_list.append(df_to_string(recipes.iloc[i]))\n"
   ]
  },
  {
   "cell_type": "code",
   "execution_count": 38,
   "id": "1963fcb2",
   "metadata": {},
   "outputs": [
    {
     "data": {
      "image/png": "[encoded data removed]",
      "text/plain": [
       "<Figure size 432x288 with 1 Axes>"
      ]
     },
     "metadata": {
      "needs_background": "light"
     },
     "output_type": "display_data"
    }
   ],
   "source": [
    "#look at the distribution of recipe lengths to determine a good legth cutoff\n",
    "recipes_lengths = []\n",
    "for recipe_text in recipes_string_list:\n",
    "    recipes_lengths.append(len(recipe_text))\n",
    "\n",
    "plt.hist(recipes_lengths, bins=50)\n",
    "plt.show()"
   ]
  },
  {
   "cell_type": "code",
   "execution_count": 39,
   "id": "8bfc1197",
   "metadata": {},
   "outputs": [],
   "source": [
    "#remove all recipes that are longer than 2000 chars in length\n",
    "recipes_string_list=list(filter(lambda string: len(string)<2000, recipes_string_list))"
   ]
  },
  {
   "cell_type": "code",
   "execution_count": 40,
   "id": "38c982d6",
   "metadata": {},
   "outputs": [
    {
     "data": {
      "image/png": "[encoded data removed]",
      "text/plain": [
       "<Figure size 432x288 with 1 Axes>"
      ]
     },
     "metadata": {
      "needs_background": "light"
     },
     "output_type": "display_data"
    }
   ],
   "source": [
    "#reinspect our recipe legths after our filtering step\n",
    "recipes_lengths = []\n",
    "for recipe_text in recipes_string_list:\n",
    "    recipes_lengths.append(len(recipe_text))\n",
    "\n",
    "plt.hist(recipes_lengths, bins=50)\n",
    "plt.show()"
   ]
  },
  {
   "cell_type": "code",
   "execution_count": 41,
   "id": "1904c227",
   "metadata": {},
   "outputs": [],
   "source": [
    "#print(recipes_string_list[1])"
   ]
  },
  {
   "cell_type": "code",
   "execution_count": 42,
   "id": "f38d3522",
   "metadata": {},
   "outputs": [],
   "source": [
    "tokenizer = tf.keras.preprocessing.text.Tokenizer(\n",
    "    char_level=True,\n",
    "    filters='',\n",
    "    lower=False,\n",
    "    split=''\n",
    ")\n"
   ]
  },
  {
   "cell_type": "code",
   "execution_count": 43,
   "id": "1dc0adf6",
   "metadata": {},
   "outputs": [],
   "source": [
    "tokenizer.fit_on_texts(recipes_string_list)"
   ]
  },
  {
   "cell_type": "code",
   "execution_count": 44,
   "id": "fb31b203",
   "metadata": {},
   "outputs": [],
   "source": [
    "#tokenizer.get_config()"
   ]
  },
  {
   "cell_type": "code",
   "execution_count": 45,
   "id": "d47869f4",
   "metadata": {},
   "outputs": [
    {
     "data": {
      "text/plain": [
       "9937"
      ]
     },
     "execution_count": 45,
     "metadata": {},
     "output_type": "execute_result"
    }
   ],
   "source": [
    "number_of_recipes=len(recipes_string_list)\n",
    "number_of_recipes"
   ]
  },
  {
   "cell_type": "code",
   "execution_count": 46,
   "id": "bccc9ec6",
   "metadata": {},
   "outputs": [],
   "source": [
    "vectorized_recipes=tokenizer.texts_to_sequences(recipes_string_list)"
   ]
  },
  {
   "cell_type": "code",
   "execution_count": 47,
   "id": "f68636c8",
   "metadata": {
    "scrolled": true
   },
   "outputs": [],
   "source": [
    "from tensorflow.keras.preprocessing.sequence import pad_sequences\n"
   ]
  },
  {
   "cell_type": "code",
   "execution_count": 48,
   "id": "9d2c3ce9",
   "metadata": {},
   "outputs": [],
   "source": [
    "padded_vectorized_recipes=pad_sequences(vectorized_recipes, padding=\"post\", truncating=\"post\")"
   ]
  },
  {
   "cell_type": "code",
   "execution_count": 49,
   "id": "a5414f36",
   "metadata": {},
   "outputs": [
    {
     "name": "stdout",
     "output_type": "stream",
     "text": [
      "Recipe #1 length: 1999\n",
      "Recipe #2 length: 1999\n",
      "Recipe #3 length: 1999\n",
      "Recipe #4 length: 1999\n",
      "Recipe #5 length: 1999\n",
      "Recipe #6 length: 1999\n",
      "Recipe #7 length: 1999\n",
      "Recipe #8 length: 1999\n",
      "Recipe #9 length: 1999\n",
      "Recipe #10 length: 1999\n"
     ]
    }
   ],
   "source": [
    "for recipe_index, recipe in enumerate(padded_vectorized_recipes[:10]):\n",
    "    print('Recipe #{} length: {}'.format(recipe_index + 1, len(recipe)))\n"
   ]
  },
  {
   "cell_type": "code",
   "execution_count": 50,
   "id": "793968a6",
   "metadata": {},
   "outputs": [
    {
     "data": {
      "text/plain": [
       "<TensorSliceDataset shapes: (1999,), types: tf.int32>"
      ]
     },
     "execution_count": 50,
     "metadata": {},
     "output_type": "execute_result"
    }
   ],
   "source": [
    "dataset = tf.data.Dataset.from_tensor_slices(padded_vectorized_recipes)\n",
    "dataset"
   ]
  },
  {
   "cell_type": "markdown",
   "id": "d2923401",
   "metadata": {},
   "source": [
    "## The hell is this doing?????"
   ]
  },
  {
   "cell_type": "code",
   "execution_count": 51,
   "id": "6b206edb",
   "metadata": {},
   "outputs": [
    {
     "name": "stdout",
     "output_type": "stream",
     "text": [
      "Raw recipe:\n",
      " [40  7  4 ...  0  0  0] \n",
      "\n",
      "\n",
      "\n",
      "Stringified recipe:\n",
      "\n",
      "T i t l e :   \n",
      " T r a d i t i o n a l   O s s o   B u c o \n",
      " \n",
      " I n g r e d i e n t s :   \n",
      " ▪ ︎   2   p o u n d s   v e a l   s h a n k s \n",
      " ▪ ︎     c u t   i n t o   s h o r t   l e n g t h s   \n",
      " ▪ ︎   ¼   c u p   a l l - p u r p o s e   f l o u r   \n",
      " ▪ ︎   ¼   c u p   B u t t e r   \n",
      " ▪ ︎   2   c l o v e s   g a r l i c \n",
      " ▪ ︎     c r u s h e d   \n",
      " ▪ ︎   1   l a r g e   o n i o n \n",
      " ▪ ︎     c h o p p e d   \n",
      " ▪ ︎   1   l a r g e   c a r r o t \n",
      " ▪ ︎     c h o p p e d   \n",
      " ▪ ︎   ⅔   c u p   d r y   w h i t e   w i n e   \n",
      " ▪ ︎   ⅔   c u p   b e e f   s t o c k   \n",
      " ▪ ︎   1   ( 1 4 . 5   o u n c e )   c a n   d i c e d   t o m a t o e s   \n",
      " ▪ ︎     s a l t   a n d   p e p p e r   t o   t a s t e   \n",
      " ▪ ︎   ½   c u p   c h o p p e d   f r e s h   f l a t   l e a f   p a r s l e y   \n",
      " ▪ ︎   1   c l o v e   g a r l i c \n",
      " ▪ ︎     m i n c e d   \n",
      " ▪ ︎   2   t e a s p o o n s   g r a t e d   l e m o n   z e s t   \n",
      " \n",
      " \n",
      " I n s t r u c t i o n s :   \n",
      " ▪ ︎   D u s t   t h e   v e a l   s h a n k s   l i g h t l y   w i t h   f l o u r . \n",
      " ▪ ︎     M e l t   t h e   b u t t e r   i n   a   l a r g e   s k i l l e t   o v e r   m e d i u m   t o   m e d i u m - h i g h   h e a t . \n",
      " ▪ ︎     A d d   t h e   v e a l ,   a n d   c o o k   u n t i l   b r o w n e d   o n   t h e   o u t s i d e . \n",
      " ▪ ︎     R e m o v e   t o   a   b o w l ,   a n d   k e e p   w a r m . \n",
      " ▪ ︎     A d d   t w o   c l o v e s   o f   c r u s h e d   g a r l i c   a n d   o n i o n   t o   t h e   s k i l l e t ;   c o o k   a n d   s t i r   u n t i l   o n i o n   i s   t e n d e r . \n",
      " ▪ ︎     R e t u r n   t h e   v e a l   t o   t h e   p a n   a n d   m i x   i n   t h e   c a r r o t   a n d   w i n e . \n",
      " ▪ ︎     S i m m e r   f o r   1 0   m i n u t e s . \n",
      " ▪ ︎   P o u r   i n   t h e   t o m a t o e s   a n d   b e e f   s t o c k ,   a n d   s e a s o n   w i t h   s a l t   a n d   p e p p e r . \n",
      " ▪ ︎     C o v e r ,   a n d   s i m m e r   o v e r   l o w   h e a t   f o r   1   1 / 2   h o u r s ,   b a s t i n g   t h e   v e a l   e v e r y   1 5   m i n u t e s   o r   s o . \n",
      " ▪ ︎     T h e   m e a t   s h o u l d   b e   t e n d e r ,   b u t   n o t   f a l l i n g   o f f   t h e   b o n e . \n",
      " ▪ ︎   I n   a   s m a l l   b o w l ,   m i x   t o g e t h e r   t h e   p a r s l e y ,   1   c l o v e   o f   g a r l i c   a n d   l e m o n   z e s t . \n",
      " ▪ ︎     S p r i n k l e   t h e   g r e m o l a t a   o v e r   t h e   v e a l   j u s t   b e f o r e   s e r v i n g . \n",
      " ▪ ︎   . \n",
      "\n"
     ]
    }
   ],
   "source": [
    "for recipe in dataset.take(1):\n",
    "    print('Raw recipe:\\n', recipe.numpy(), '\\n\\n\\n')\n",
    "    print('Stringified recipe:\\n')\n",
    "    #print(type(recipe.numpy()))\n",
    "    \n",
    "    print(tokenizer.sequences_to_texts([recipe.numpy()])[0])"
   ]
  },
  {
   "cell_type": "code",
   "execution_count": 52,
   "id": "194f28ba",
   "metadata": {},
   "outputs": [],
   "source": [
    "def split_target(recipe):\n",
    "    input_text = recipe[:-1]\n",
    "    target_text = recipe[1:]\n",
    "    \n",
    "    return input_text, target_text\n",
    "\n",
    "dataset_targeted = dataset.map(split_target)"
   ]
  },
  {
   "cell_type": "code",
   "execution_count": 53,
   "id": "f1e6a10e",
   "metadata": {},
   "outputs": [
    {
     "data": {
      "text/plain": [
       "<MapDataset shapes: ((1998,), (1998,)), types: (tf.int32, tf.int32)>"
      ]
     },
     "execution_count": 53,
     "metadata": {},
     "output_type": "execute_result"
    }
   ],
   "source": [
    "dataset_targeted"
   ]
  },
  {
   "cell_type": "code",
   "execution_count": 54,
   "id": "052c9052",
   "metadata": {},
   "outputs": [],
   "source": [
    "char_count = len(tokenizer.word_counts) + 1"
   ]
  },
  {
   "cell_type": "code",
   "execution_count": 55,
   "id": "6b629f22",
   "metadata": {},
   "outputs": [
    {
     "data": {
      "text/plain": [
       "108"
      ]
     },
     "execution_count": 55,
     "metadata": {},
     "output_type": "execute_result"
    }
   ],
   "source": [
    "char_count"
   ]
  },
  {
   "cell_type": "code",
   "execution_count": 56,
   "id": "aa29feb6",
   "metadata": {},
   "outputs": [],
   "source": [
    "# Batch size.\n",
    "BATCH_SIZE = 64\n",
    "\n",
    "# Buffer size to shuffle the dataset (TF data is designed to work\n",
    "# with possibly infinite sequences, so it doesn't attempt to shuffle\n",
    "# the entire sequence in memory. Instead, it maintains a buffer in\n",
    "# which it shuffles elements).\n",
    "SHUFFLE_BUFFER_SIZE = 1000\n",
    "\n",
    "dataset_train = dataset_targeted.shuffle(SHUFFLE_BUFFER_SIZE).batch(BATCH_SIZE, drop_remainder=True).repeat()"
   ]
  },
  {
   "cell_type": "code",
   "execution_count": 58,
   "id": "b8bcf1b9",
   "metadata": {},
   "outputs": [],
   "source": [
    "ulmfit = hub.load('https://tfhub.dev/edrone/ulmfit/en/sp35k_cased/1')\n",
    "sents = tf.constant(['All human beings are born free and equal in dignity and rights.',\n",
    "                     'They are endowed with reason and conscience and should act towards '\\\n",
    "                     'one another in a spirit of brotherhood.'], dtype=tf.string)\n",
    "encoder = hub.KerasLayer(ulmfit.signatures['string_encoder'], trainable=True)\n",
    "encoder_vectors = encoder(sents)\n"
   ]
  },
  {
   "cell_type": "code",
   "execution_count": 59,
   "id": "36a5bc2f",
   "metadata": {},
   "outputs": [
    {
     "name": "stdout",
     "output_type": "stream",
     "text": [
      "{'output_rows': <tf.Tensor: shape=(3,), dtype=int64, numpy=array([ 0, 15, 37])>, 'output_flat': <tf.Tensor: shape=(37, 400), dtype=float32, numpy=\n",
      "array([[-0.06846654,  0.03071258,  0.04870526, ...,  0.04809857,\n",
      "         0.15923296, -0.02486313],\n",
      "       [-0.13043487, -0.1909394 , -0.09320115, ..., -0.1424475 ,\n",
      "         0.13983175,  0.00967816],\n",
      "       [ 0.15335041, -0.40955257,  0.5128573 , ..., -0.16427836,\n",
      "        -0.02573418, -0.40563574],\n",
      "       ...,\n",
      "       [-0.02794354,  0.09732353,  0.10050512, ..., -0.1393982 ,\n",
      "        -0.16106687, -0.13645022],\n",
      "       [-0.15928333, -0.06271838,  0.23366177, ..., -0.05935495,\n",
      "         0.09020575, -0.2322308 ],\n",
      "       [ 0.01761356, -0.01679656,  0.06662259, ...,  0.03510036,\n",
      "        -0.15061517, -0.08671113]], dtype=float32)>}\n"
     ]
    }
   ],
   "source": []
  },
  {
   "cell_type": "code",
   "execution_count": 57,
   "id": "f2c7db50",
   "metadata": {},
   "outputs": [],
   "source": [
    "base_model=tf.keras.models.Sequential([\n",
    "    tf.keras.layers.Embedding(input_dim=char_count, output_dim=256,batch_input_shape=[BATCH_SIZE, None]),\n",
    "    tf.keras.layers.LSTM(units=1024,return_sequences=True,\n",
    "                         recurrent_initializer=tf.keras.initializers.GlorotNormal()),\n",
    "    tf.keras.layers.Dense(char_count)\n",
    "    \n",
    "])\n"
   ]
  },
  {
   "cell_type": "code",
   "execution_count": 28,
   "id": "39b5c3a3",
   "metadata": {},
   "outputs": [
    {
     "name": "stdout",
     "output_type": "stream",
     "text": [
      "Model: \"sequential\"\n",
      "_________________________________________________________________\n",
      " Layer (type)                Output Shape              Param #   \n",
      "=================================================================\n",
      " embedding (Embedding)       (64, None, 256)           27648     \n",
      "                                                                 \n",
      " lstm (LSTM)                 (64, None, 1024)          5246976   \n",
      "                                                                 \n",
      " dense (Dense)               (64, None, 108)           110700    \n",
      "                                                                 \n",
      "=================================================================\n",
      "Total params: 5,385,324\n",
      "Trainable params: 5,385,324\n",
      "Non-trainable params: 0\n",
      "_________________________________________________________________\n"
     ]
    }
   ],
   "source": [
    "base_model.summary()"
   ]
  },
  {
   "cell_type": "code",
   "execution_count": 41,
   "id": "77581702",
   "metadata": {},
   "outputs": [],
   "source": [
    "base_model.compile(loss = tf.keras.losses.SparseCategoricalCrossentropy(from_logits = True), \n",
    "              optimizer = \"adam\")"
   ]
  },
  {
   "cell_type": "code",
   "execution_count": null,
   "id": "6291f4f2",
   "metadata": {},
   "outputs": [],
   "source": [
    "history=base_model.fit(\n",
    "    x=dataset_train,\n",
    "    epochs=50,\n",
    "    steps_per_epoch=1000\n",
    ")"
   ]
  },
  {
   "cell_type": "code",
   "execution_count": null,
   "id": "d698b211",
   "metadata": {},
   "outputs": [],
   "source": []
  }
 ],
 "metadata": {
  "kernelspec": {
   "display_name": "Python 3",
   "language": "python",
   "name": "python3"
  },
  "language_info": {
   "codemirror_mode": {
    "name": "ipython",
    "version": 3
   },
   "file_extension": ".py",
   "mimetype": "text/x-python",
   "name": "python",
   "nbconvert_exporter": "python",
   "pygments_lexer": "ipython3",
   "version": "3.8.8"
  }
 },
 "nbformat": 4,
 "nbformat_minor": 5
}
